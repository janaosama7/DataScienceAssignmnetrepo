{
 "cells": [
  {
   "cell_type": "markdown",
   "id": "686297d3",
   "metadata": {},
   "source": [
    "# Data Science tools and Ecosystem"
   ]
  },
  {
   "cell_type": "markdown",
   "id": "ac5d1e82",
   "metadata": {},
   "source": [
    "in this notebook, Data Science Tools and Ecosystem are summerized "
   ]
  },
  {
   "cell_type": "markdown",
   "id": "156ff016",
   "metadata": {},
   "source": [
    "**Objective:**\n",
    "   - list popular languages in data science\n",
    "   - list commonly used libraries used by data scientists\n",
    "   - know how to use headings\n",
    "   - know how to do simple arithmetic expressions by python"
   ]
  },
  {
   "cell_type": "markdown",
   "id": "56e7ea91",
   "metadata": {},
   "source": [
    "some of the popular languages that data scienctists use are:\n",
    "1. Python\n",
    "2. R\n",
    "3. SQL\n",
    "4. Java\n",
    "5. Scala\n",
    "6. C++"
   ]
  },
  {
   "cell_type": "markdown",
   "id": "d7475849",
   "metadata": {},
   "source": [
    "some of the commonly used libraries used by data scientists include:\n",
    "1. Pandas\n",
    "2. NumPy\n",
    "3. Matplotlib"
   ]
  },
  {
   "cell_type": "markdown",
   "id": "970c32b0",
   "metadata": {},
   "source": [
    "| Data Science Tools |\n",
    "| ------------------ |\n",
    "| Apache Spark |\n",
    "| TensorFlow |\n",
    "| Apache Hadoop |"
   ]
  },
  {
   "cell_type": "markdown",
   "id": "4eace31b",
   "metadata": {},
   "source": [
    "### below are a few examples of evaluating arithmetic expressions in python "
   ]
  },
  {
   "cell_type": "code",
   "execution_count": 1,
   "id": "bfd5f10a",
   "metadata": {},
   "outputs": [
    {
     "data": {
      "text/plain": [
       "17"
      ]
     },
     "execution_count": 1,
     "metadata": {},
     "output_type": "execute_result"
    }
   ],
   "source": [
    "#this is a single arithmetic expression to multiply then add integers\n",
    "(3*4)+5"
   ]
  },
  {
   "cell_type": "code",
   "execution_count": 2,
   "id": "a36e8397",
   "metadata": {},
   "outputs": [
    {
     "data": {
      "text/plain": [
       "3.3333333333333335"
      ]
     },
     "execution_count": 2,
     "metadata": {},
     "output_type": "execute_result"
    }
   ],
   "source": [
    "#this will convert 200 minutes to hours by dividing by 60\n",
    "200/60"
   ]
  },
  {
   "cell_type": "markdown",
   "id": "75154631",
   "metadata": {},
   "source": [
    "## Author\n",
    "Jana Osama "
   ]
  }
 ],
 "metadata": {
  "kernelspec": {
   "display_name": "Python 3 (ipykernel)",
   "language": "python",
   "name": "python3"
  },
  "language_info": {
   "codemirror_mode": {
    "name": "ipython",
    "version": 3
   },
   "file_extension": ".py",
   "mimetype": "text/x-python",
   "name": "python",
   "nbconvert_exporter": "python",
   "pygments_lexer": "ipython3",
   "version": "3.9.13"
  }
 },
 "nbformat": 4,
 "nbformat_minor": 5
}
